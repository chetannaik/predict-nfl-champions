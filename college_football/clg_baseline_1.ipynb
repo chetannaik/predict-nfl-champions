{
 "metadata": {
  "name": "",
  "signature": "sha256:0d2a6e52ed1890166418a78f69258d1e429d6926c23cfb6a5bbf8f5e4b4e6856"
 },
 "nbformat": 3,
 "nbformat_minor": 0,
 "worksheets": [
  {
   "cells": [
    {
     "cell_type": "markdown",
     "metadata": {},
     "source": [
      "#College Football Baseline 1"
     ]
    },
    {
     "cell_type": "markdown",
     "metadata": {},
     "source": [
      "Importing necessary libraries."
     ]
    },
    {
     "cell_type": "code",
     "collapsed": false,
     "input": [
      "%pylab inline\n",
      "\n",
      "from collections import defaultdict\n",
      "\n",
      "import cPickle as pickle\n",
      "import math\n",
      "import numpy as np\n",
      "import pandas as pd\n",
      "import pylab\n",
      "import glob\n",
      "import seaborn"
     ],
     "language": "python",
     "metadata": {},
     "outputs": [
      {
       "output_type": "stream",
       "stream": "stdout",
       "text": [
        "Populating the interactive namespace from numpy and matplotlib\n"
       ]
      }
     ],
     "prompt_number": 1
    },
    {
     "cell_type": "code",
     "collapsed": false,
     "input": [
      "colors = seaborn.color_palette()\n",
      "\n",
      "from matplotlib import rc\n",
      "\n",
      "rc(\"figure\", facecolor=\"white\")\n",
      "rc(\"axes\", facecolor=\"white\")\n",
      "rc(\"axes\", edgecolor=\"grey\")\n",
      "\n",
      "\n",
      "rc(\"grid\", alpha=0.9)\n",
      "rc(\"grid\", linewidth=0.2)\n",
      "rc(\"grid\", linestyle=\":\")\n",
      "\n",
      "\n",
      "rc('font',**{'family':'serif','serif':['Palatino']})"
     ],
     "language": "python",
     "metadata": {},
     "outputs": [],
     "prompt_number": 2
    },
    {
     "cell_type": "code",
     "collapsed": false,
     "input": [
      "# A utility function to compare the results side-by-side\n",
      "def side_by_side(*objs, **kwds):\n",
      "    from pandas.core.common import adjoin\n",
      "    space = kwds.get('space', 4)\n",
      "    reprs = [repr(obj).split('\\n') for obj in objs]\n",
      "    print adjoin(space, *reprs)"
     ],
     "language": "python",
     "metadata": {},
     "outputs": [],
     "prompt_number": 3
    },
    {
     "cell_type": "markdown",
     "metadata": {},
     "source": [
      "## Creating Train and Test Set"
     ]
    },
    {
     "cell_type": "code",
     "collapsed": false,
     "input": [
      "trainDF = pd.read_csv('trainCOL.csv', index_col=0)\n",
      "testDF = pd.read_csv('testCOL.csv', index_col=0)"
     ],
     "language": "python",
     "metadata": {},
     "outputs": [],
     "prompt_number": 4
    },
    {
     "cell_type": "code",
     "collapsed": false,
     "input": [
      "trainDF = trainDF.sort(columns='game_id').reset_index(drop=True)\n",
      "testDF = testDF.sort(columns='game_id').reset_index(drop=True)"
     ],
     "language": "python",
     "metadata": {},
     "outputs": [],
     "prompt_number": 5
    },
    {
     "cell_type": "markdown",
     "metadata": {},
     "source": [
      "## Train Data operations"
     ]
    },
    {
     "cell_type": "code",
     "collapsed": false,
     "input": [
      "trdf = trainDF[['game_id','year','home_team','away_team','home_score','away_score','winner']]"
     ],
     "language": "python",
     "metadata": {},
     "outputs": [],
     "prompt_number": 6
    },
    {
     "cell_type": "code",
     "collapsed": false,
     "input": [
      "def get_historic_games(team, gameId, trdf):\n",
      "    df = trdf[trdf.game_id < gameId]\n",
      "    hdf = df[df.home_team == team]\n",
      "    adf = df[df.away_team == team]\n",
      "    newdf = pd.concat([hdf, adf])\n",
      "    newdf = newdf.sort_index()\n",
      "    try:\n",
      "        return pd.concat([hdf, adf])\n",
      "    except:\n",
      "        return False"
     ],
     "language": "python",
     "metadata": {},
     "outputs": [],
     "prompt_number": 7
    },
    {
     "cell_type": "code",
     "collapsed": false,
     "input": [
      "def get_points(team, df):\n",
      "    pFor = []\n",
      "    pAgainst = []\n",
      "    for r, v in df.iterrows():\n",
      "        hTeam = v.home_team\n",
      "        aTeam = v.away_team\n",
      "        hScore = v.home_score\n",
      "        aScore = v.away_score\n",
      "        if (team == hTeam):\n",
      "            pFor.append(hScore)\n",
      "            pAgainst.append(aScore)\n",
      "        elif (team == aTeam):\n",
      "            pFor.append(aScore)\n",
      "            pAgainst.append(hScore)\n",
      "    return (sum(pFor)/len(df), sum(pAgainst)/len(df))"
     ],
     "language": "python",
     "metadata": {},
     "outputs": [],
     "prompt_number": 8
    },
    {
     "cell_type": "code",
     "collapsed": false,
     "input": [
      "for i in xrange(1, 50):\n",
      "    lst = []\n",
      "    for r, v in trdf.iterrows():\n",
      "        gameId = v.game_id\n",
      "        home = v.home_team\n",
      "        away = v.away_team\n",
      "        homehGames = get_historic_games(home, gameId, trdf)\n",
      "        awayhGames = get_historic_games(away, gameId, trdf)\n",
      "        if (isinstance(homehGames, pd.DataFrame) and isinstance(awayhGames, pd.DataFrame)):\n",
      "            if (len(homehGames.index) >= i and len(awayhGames.index) >= i):\n",
      "                homehGames = homehGames[-i:]\n",
      "                awayhGames = awayhGames[-i:]\n",
      "                hFor, hAgainst = get_points(home, homehGames)\n",
      "                aFor, aAgainst = get_points(away, awayhGames)\n",
      "            else:\n",
      "                hFor, hAgainst, aFor, aAgainst = 0, 0, 0, 0\n",
      "        else:\n",
      "            hFor, hAgainst, aFor, aAgainst = 0, 0, 0, 0\n",
      "        v = v.append(pd.Series([hFor, hAgainst, aFor, aAgainst], index=['hFor', 'hAgainst', 'aFor', 'aAgainst'], name=r))\n",
      "        lst.append(pd.DataFrame(v).T)\n",
      "    trdfn = pd.concat(lst)\n",
      "    csv_name = \"baseline1/data_iter_\"+str(i)+\".csv\"\n",
      "    trdfn.to_csv(csv_name)"
     ],
     "language": "python",
     "metadata": {},
     "outputs": [],
     "prompt_number": 36
    },
    {
     "cell_type": "code",
     "collapsed": false,
     "input": [
      "def get_diff(hFor, hAgainst, aFor, aAgainst):\n",
      "    if sum([hFor, hAgainst, aFor, aAgainst]) > 0:\n",
      "        return (hFor + aAgainst)/2  - (aFor + hAgainst)/2\n",
      "    else:\n",
      "        return 0"
     ],
     "language": "python",
     "metadata": {},
     "outputs": [],
     "prompt_number": 9
    },
    {
     "cell_type": "code",
     "collapsed": false,
     "input": [
      "def get_predicted_winner(diff_xy, home_team, away_team):\n",
      "    if diff_xy >= 0:\n",
      "        return home_team\n",
      "    else:\n",
      "        return away_team"
     ],
     "language": "python",
     "metadata": {},
     "outputs": [],
     "prompt_number": 10
    },
    {
     "cell_type": "code",
     "collapsed": false,
     "input": [
      "def is_prediction_correct(winner, predicted_winner):\n",
      "    if winner == predicted_winner:\n",
      "        return True\n",
      "    else:\n",
      "        return False"
     ],
     "language": "python",
     "metadata": {},
     "outputs": [],
     "prompt_number": 11
    },
    {
     "cell_type": "code",
     "collapsed": false,
     "input": [
      "dfs = []\n",
      "for i in xrange(1, 50):\n",
      "    csv_name = \"baseline1/data_iter_\"+str(i)+\".csv\"\n",
      "    trdfn = pd.read_csv(csv_name, index_col=0)\n",
      "    years = set(trdfn.year)\n",
      "    lst = []\n",
      "    for year in years:\n",
      "        trdfny = trdfn[trdfn.year == year]\n",
      "        trdfny['diff_xy'] = trdfny.apply(lambda x: get_diff(x['hFor'], x['hAgainst'], x['aFor'], x['aAgainst']), axis=1)\n",
      "        trdfny['predicted_winner'] = trdfny.apply(lambda x: get_predicted_winner(x['diff_xy'], x['home_team'], x['away_team']), axis=1)\n",
      "        trdfny['correct_prediction'] = trdfny.apply(lambda x: is_prediction_correct(x['winner'], x['predicted_winner']), axis=1)\n",
      "        lst.append(float(sum(trdfny.correct_prediction))*100/len(trdfny.index))\n",
      "    dfs.append(pd.DataFrame(lst, columns=[i], index=years).T)\n",
      "ansB1 = pd.concat(dfs)   "
     ],
     "language": "python",
     "metadata": {},
     "outputs": [],
     "prompt_number": 40
    },
    {
     "cell_type": "code",
     "collapsed": false,
     "input": [
      "tmpB1 = ansB1.T.mean()"
     ],
     "language": "python",
     "metadata": {},
     "outputs": [],
     "prompt_number": 41
    },
    {
     "cell_type": "code",
     "collapsed": false,
     "input": [
      "tmpB1"
     ],
     "language": "python",
     "metadata": {},
     "outputs": [
      {
       "metadata": {},
       "output_type": "pyout",
       "prompt_number": 42,
       "text": [
        "1     58.679652\n",
        "2     62.370012\n",
        "3     63.960777\n",
        "4     64.882653\n",
        "5     65.617572\n",
        "6     65.579237\n",
        "7     65.843909\n",
        "8     66.775720\n",
        "9     66.865880\n",
        "10    67.329603\n",
        "11    67.123369\n",
        "12    67.328187\n",
        "13    67.439274\n",
        "14    67.169722\n",
        "15    67.578752\n",
        "16    67.620286\n",
        "17    67.446574\n",
        "18    67.743059\n",
        "19    67.651776\n",
        "20    67.725993\n",
        "21    67.773268\n",
        "22    67.797476\n",
        "23    67.791740\n",
        "24    67.383125\n",
        "25    67.435805\n",
        "26    67.412654\n",
        "27    67.730099\n",
        "28    67.711859\n",
        "29    67.205141\n",
        "30    67.172648\n",
        "31    67.321478\n",
        "32    67.328854\n",
        "33    67.320027\n",
        "34    67.153167\n",
        "35    67.389960\n",
        "36    67.068088\n",
        "37    66.746560\n",
        "38    66.537536\n",
        "39    66.470723\n",
        "40    66.521872\n",
        "41    66.614384\n",
        "42    66.602449\n",
        "43    66.398296\n",
        "44    66.325003\n",
        "45    66.336004\n",
        "46    66.121544\n",
        "47    66.256656\n",
        "48    66.173984\n",
        "49    66.148152\n",
        "dtype: float64"
       ]
      }
     ],
     "prompt_number": 42
    },
    {
     "cell_type": "code",
     "collapsed": false,
     "input": [
      "max(tmpB1)"
     ],
     "language": "python",
     "metadata": {},
     "outputs": [
      {
       "metadata": {},
       "output_type": "pyout",
       "prompt_number": 43,
       "text": [
        "67.797475992742307"
       ]
      }
     ],
     "prompt_number": 43
    },
    {
     "cell_type": "code",
     "collapsed": false,
     "input": [
      "tmpB1.plot(label=\"Baseline 1\")\n",
      "plt.grid(b=True, which='major', color='gray', linestyle=':')\n",
      "plt.xlabel('Number of games considered')\n",
      "plt.ylabel('Prediction accurcay')\n",
      "plt.ylim([0, 70])\n",
      "plt.legend()\n",
      "plt.show()"
     ],
     "language": "python",
     "metadata": {},
     "outputs": [
      {
       "metadata": {},
       "output_type": "display_data",
       "png": "[encoded data removed]",
       "text": [
        "<matplotlib.figure.Figure at 0x113fc3690>"
       ]
      }
     ],
     "prompt_number": 53
    },
    {
     "cell_type": "markdown",
     "metadata": {},
     "source": [
      "##Test Data Operations\n"
     ]
    },
    {
     "cell_type": "code",
     "collapsed": false,
     "input": [
      "trdf_alpha = trainDF"
     ],
     "language": "python",
     "metadata": {},
     "outputs": [],
     "prompt_number": 12
    },
    {
     "cell_type": "code",
     "collapsed": false,
     "input": [
      "def get_historic_games(team, gameId, trdf):\n",
      "    df = trdf[trdf.game_id < gameId]\n",
      "    hdf = df[df.home_team == team]\n",
      "    adf = df[df.away_team == team]\n",
      "    newdf = pd.concat([hdf, adf])\n",
      "    newdf = newdf.sort_index()\n",
      "    try:\n",
      "        return pd.concat([hdf, adf])\n",
      "    except:\n",
      "        return False"
     ],
     "language": "python",
     "metadata": {},
     "outputs": [],
     "prompt_number": 13
    },
    {
     "cell_type": "code",
     "collapsed": false,
     "input": [
      "def get_points(team, df, alpha):\n",
      "    pFor = []\n",
      "    pAgainst = []\n",
      "    for r, v in df.iterrows():\n",
      "        hTeam = v.home_team\n",
      "        aTeam = v.away_team\n",
      "        hScore = v.home_score\n",
      "        aScore = v.away_score\n",
      "        if (team == hTeam):\n",
      "            pFor.append(hScore)\n",
      "            pAgainst.append(aScore)\n",
      "        elif (team == aTeam):\n",
      "            pFor.append(aScore)\n",
      "            pAgainst.append(hScore)\n",
      "    numGames = len(pFor)\n",
      "    weights = []\n",
      "    for i in xrange(1, numGames+1):\n",
      "        weights.append(alpha**i)\n",
      "    return (int(round(np.dot(pFor, weights)/float(sum(weights)))), int(round(np.dot(pAgainst, weights)/float(sum(weights)))))"
     ],
     "language": "python",
     "metadata": {},
     "outputs": [],
     "prompt_number": 14
    },
    {
     "cell_type": "code",
     "collapsed": false,
     "input": [
      "for alpha in np.arange(0.5, 1.01, 0.1):\n",
      "    for i in xrange(17, 18):\n",
      "        lst = []\n",
      "        for r, v in trdf_alpha.iterrows():\n",
      "            gameId = v.game_id\n",
      "            home = v.home_team\n",
      "            away = v.away_team\n",
      "            homehGames = get_historic_games(home, gameId, trdf_alpha)\n",
      "            awayhGames = get_historic_games(away, gameId, trdf_alpha)\n",
      "            if (isinstance(homehGames, pd.DataFrame) and isinstance(awayhGames, pd.DataFrame)):\n",
      "                if (len(homehGames.index) >= i and len(awayhGames.index) >= i):\n",
      "                    homehGames = homehGames[-i:]\n",
      "                    awayhGames = awayhGames[-i:]\n",
      "                    hFor, hAgainst = get_points(home, homehGames, alpha)\n",
      "                    aFor, aAgainst = get_points(away, awayhGames, alpha)\n",
      "                else:\n",
      "                    hFor, hAgainst, aFor, aAgainst = 0, 0, 0, 0\n",
      "            else:\n",
      "                hFor, hAgainst, aFor, aAgainst = 0, 0, 0, 0\n",
      "            v = v.append(pd.Series([hFor, hAgainst, aFor, aAgainst], index=['hFor', 'hAgainst', 'aFor', 'aAgainst'], name=r))\n",
      "            lst.append(pd.DataFrame(v).T)\n",
      "        trdf_alpha_n = pd.concat(lst)\n",
      "        csv_name = \"baseline2/alpha\" + str(alpha) + \"/train_data_iter_\"+str(i)+\".csv\"\n",
      "        trdf_alpha_n.to_csv(csv_name)"
     ],
     "language": "python",
     "metadata": {},
     "outputs": [],
     "prompt_number": 15
    },
    {
     "cell_type": "code",
     "collapsed": false,
     "input": [
      "def get_diff(hFor, hAgainst, aFor, aAgainst):\n",
      "    if sum([hFor, hAgainst, aFor, aAgainst]) > 0:\n",
      "        return (hFor + aAgainst)/2  - (aFor + hAgainst)/2\n",
      "    else:\n",
      "        return 0"
     ],
     "language": "python",
     "metadata": {},
     "outputs": [],
     "prompt_number": 16
    },
    {
     "cell_type": "code",
     "collapsed": false,
     "input": [
      "def get_predicted_winner(diff_xy, home_team, away_team):\n",
      "    if diff_xy >= 0:\n",
      "        return home_team\n",
      "    else:\n",
      "        return away_team"
     ],
     "language": "python",
     "metadata": {},
     "outputs": [],
     "prompt_number": 17
    },
    {
     "cell_type": "code",
     "collapsed": false,
     "input": [
      "def is_prediction_correct(winner, predicted_winner):\n",
      "    if winner == predicted_winner:\n",
      "        return True\n",
      "    else:\n",
      "        return False"
     ],
     "language": "python",
     "metadata": {},
     "outputs": [],
     "prompt_number": 18
    },
    {
     "cell_type": "code",
     "collapsed": false,
     "input": [
      "adfs = []\n",
      "for alpha in np.arange(0.5, 1.01, 0.1):\n",
      "    dfs = []\n",
      "    for i in xrange(17, 18):\n",
      "        csv_name = \"baseline2/alpha\" + str(alpha) + \"/train_data_iter_\"+str(i)+\".csv\"\n",
      "        trdfn = pd.read_csv(csv_name, index_col=0)\n",
      "        years = set(trdfn.year)\n",
      "        lst = []\n",
      "        for year in years:\n",
      "            trdfny = trdfn[trdfn.year == year]\n",
      "            trdfny['diff_xy'] = trdfny.apply(lambda x: get_diff(x['hFor'], x['hAgainst'], x['aFor'], x['aAgainst']), axis=1)\n",
      "            trdfny['predicted_winner'] = trdfny.apply(lambda x: get_predicted_winner(x['diff_xy'], x['home_team'], x['away_team']), axis=1)\n",
      "            trdfny['correct_prediction'] = trdfny.apply(lambda x: is_prediction_correct(x['winner'], x['predicted_winner']), axis=1)\n",
      "            lst.append(float(sum(trdfny.correct_prediction))*100/len(trdfny.index))\n",
      "        dfs.append(pd.DataFrame(lst, columns=[i], index=years).T)\n",
      "    tmp = pd.concat(dfs)\n",
      "    tmp = tmp.T.mean()\n",
      "    adfs.append(pd.DataFrame(tmp, columns=[alpha]).T)\n",
      "ans = pd.concat(adfs).T"
     ],
     "language": "python",
     "metadata": {},
     "outputs": [],
     "prompt_number": 19
    },
    {
     "cell_type": "code",
     "collapsed": false,
     "input": [
      "ans.T"
     ],
     "language": "python",
     "metadata": {},
     "outputs": [
      {
       "html": [
        "<div style=\"max-height:1000px;max-width:1500px;overflow:auto;\">\n",
        "<table border=\"1\" class=\"dataframe\">\n",
        "  <thead>\n",
        "    <tr style=\"text-align: right;\">\n",
        "      <th></th>\n",
        "      <th>17</th>\n",
        "    </tr>\n",
        "  </thead>\n",
        "  <tbody>\n",
        "    <tr>\n",
        "      <th>0.5</th>\n",
        "      <td> 63.453913</td>\n",
        "    </tr>\n",
        "    <tr>\n",
        "      <th>0.6</th>\n",
        "      <td> 64.496069</td>\n",
        "    </tr>\n",
        "    <tr>\n",
        "      <th>0.7</th>\n",
        "      <td> 65.155919</td>\n",
        "    </tr>\n",
        "    <tr>\n",
        "      <th>0.8</th>\n",
        "      <td> 66.047140</td>\n",
        "    </tr>\n",
        "    <tr>\n",
        "      <th>0.9</th>\n",
        "      <td> 67.005708</td>\n",
        "    </tr>\n",
        "    <tr>\n",
        "      <th>1.0</th>\n",
        "      <td> 67.595777</td>\n",
        "    </tr>\n",
        "  </tbody>\n",
        "</table>\n",
        "<p>6 rows \u00d7 1 columns</p>\n",
        "</div>"
       ],
       "metadata": {},
       "output_type": "pyout",
       "prompt_number": 20,
       "text": [
        "            17\n",
        "0.5  63.453913\n",
        "0.6  64.496069\n",
        "0.7  65.155919\n",
        "0.8  66.047140\n",
        "0.9  67.005708\n",
        "1.0  67.595777\n",
        "\n",
        "[6 rows x 1 columns]"
       ]
      }
     ],
     "prompt_number": 20
    },
    {
     "cell_type": "markdown",
     "metadata": {},
     "source": [
      "---"
     ]
    }
   ],
   "metadata": {}
  }
 ]
}