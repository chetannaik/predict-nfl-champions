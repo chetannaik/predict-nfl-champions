{
 "metadata": {
  "name": "",
  "signature": "sha256:27e72c38dfc48fa4cf71d3e4a6da8ed3c5e3c8ac23edb96f9f953d3c2c21c05c"
 },
 "nbformat": 3,
 "nbformat_minor": 0,
 "worksheets": [
  {
   "cells": [
    {
     "cell_type": "code",
     "collapsed": false,
     "input": [
      "%pylab inline\n",
      "\n",
      "from collections import defaultdict\n",
      "from IPython.display import Image\n",
      "\n",
      "import cPickle as pickle\n",
      "import math\n",
      "import numpy as np\n",
      "import pandas as pd\n",
      "import pylab"
     ],
     "language": "python",
     "metadata": {},
     "outputs": [
      {
       "output_type": "stream",
       "stream": "stdout",
       "text": [
        "Populating the interactive namespace from numpy and matplotlib\n"
       ]
      },
      {
       "output_type": "stream",
       "stream": "stderr",
       "text": [
        "WARNING: pylab import has clobbered these variables: ['pylab']\n",
        "`%matplotlib` prevents importing * from pylab and numpy\n"
       ]
      }
     ],
     "prompt_number": 41
    },
    {
     "cell_type": "code",
     "collapsed": false,
     "input": [
      "def side_by_side(*objs, **kwds):\n",
      "    from pandas.core.common import adjoin\n",
      "    space = kwds.get('space', 4)\n",
      "    reprs = [repr(obj).split('\\n') for obj in objs]\n",
      "    print adjoin(space, *reprs)"
     ],
     "language": "python",
     "metadata": {},
     "outputs": [],
     "prompt_number": 42
    },
    {
     "cell_type": "code",
     "collapsed": false,
     "input": [
      "gamesDF = pd.read_csv('gamesData.csv')"
     ],
     "language": "python",
     "metadata": {},
     "outputs": [],
     "prompt_number": 43
    },
    {
     "cell_type": "code",
     "collapsed": false,
     "input": [
      "gamesDF.head()"
     ],
     "language": "python",
     "metadata": {},
     "outputs": [
      {
       "html": [
        "<div style=\"max-height:1000px;max-width:1500px;overflow:auto;\">\n",
        "<table border=\"1\" class=\"dataframe\">\n",
        "  <thead>\n",
        "    <tr style=\"text-align: right;\">\n",
        "      <th></th>\n",
        "      <th>game_id</th>\n",
        "      <th>year</th>\n",
        "      <th>date</th>\n",
        "      <th>away_team</th>\n",
        "      <th>home_team</th>\n",
        "      <th>away_score</th>\n",
        "      <th>home_score</th>\n",
        "      <th>winner</th>\n",
        "    </tr>\n",
        "  </thead>\n",
        "  <tbody>\n",
        "    <tr>\n",
        "      <th>0</th>\n",
        "      <td> 0</td>\n",
        "      <td> 2009</td>\n",
        "      <td> 9/3/09</td>\n",
        "      <td> South Carolina</td>\n",
        "      <td> No Carolina State</td>\n",
        "      <td>  7</td>\n",
        "      <td>  3</td>\n",
        "      <td> South Carolina</td>\n",
        "    </tr>\n",
        "    <tr>\n",
        "      <th>1</th>\n",
        "      <td> 1</td>\n",
        "      <td> 2009</td>\n",
        "      <td> 9/3/09</td>\n",
        "      <td>     Utah State</td>\n",
        "      <td>              Utah</td>\n",
        "      <td> 17</td>\n",
        "      <td> 35</td>\n",
        "      <td>           Utah</td>\n",
        "    </tr>\n",
        "    <tr>\n",
        "      <th>2</th>\n",
        "      <td> 2</td>\n",
        "      <td> 2009</td>\n",
        "      <td> 9/3/09</td>\n",
        "      <td>         Oregon</td>\n",
        "      <td>       Boise State</td>\n",
        "      <td>  9</td>\n",
        "      <td> 19</td>\n",
        "      <td>    Boise State</td>\n",
        "    </tr>\n",
        "    <tr>\n",
        "      <th>3</th>\n",
        "      <td> 3</td>\n",
        "      <td> 2009</td>\n",
        "      <td> 9/3/09</td>\n",
        "      <td>           Troy</td>\n",
        "      <td>     Bowling Green</td>\n",
        "      <td> 14</td>\n",
        "      <td> 31</td>\n",
        "      <td>  Bowling Green</td>\n",
        "    </tr>\n",
        "    <tr>\n",
        "      <th>4</th>\n",
        "      <td> 4</td>\n",
        "      <td> 2009</td>\n",
        "      <td> 9/3/09</td>\n",
        "      <td>    North Texas</td>\n",
        "      <td>        Ball State</td>\n",
        "      <td> 20</td>\n",
        "      <td> 10</td>\n",
        "      <td>    North Texas</td>\n",
        "    </tr>\n",
        "  </tbody>\n",
        "</table>\n",
        "</div>"
       ],
       "metadata": {},
       "output_type": "pyout",
       "prompt_number": 44,
       "text": [
        "   game_id  year    date       away_team          home_team  away_score  \\\n",
        "0        0  2009  9/3/09  South Carolina  No Carolina State           7   \n",
        "1        1  2009  9/3/09      Utah State               Utah          17   \n",
        "2        2  2009  9/3/09          Oregon        Boise State           9   \n",
        "3        3  2009  9/3/09            Troy      Bowling Green          14   \n",
        "4        4  2009  9/3/09     North Texas         Ball State          20   \n",
        "\n",
        "   home_score          winner  \n",
        "0           3  South Carolina  \n",
        "1          35            Utah  \n",
        "2          19     Boise State  \n",
        "3          31   Bowling Green  \n",
        "4          10     North Texas  "
       ]
      }
     ],
     "prompt_number": 44
    },
    {
     "cell_type": "code",
     "collapsed": false,
     "input": [
      "newDF = gamesDF"
     ],
     "language": "python",
     "metadata": {},
     "outputs": [],
     "prompt_number": 45
    },
    {
     "cell_type": "code",
     "collapsed": false,
     "input": [
      "newDF.head()"
     ],
     "language": "python",
     "metadata": {},
     "outputs": [
      {
       "html": [
        "<div style=\"max-height:1000px;max-width:1500px;overflow:auto;\">\n",
        "<table border=\"1\" class=\"dataframe\">\n",
        "  <thead>\n",
        "    <tr style=\"text-align: right;\">\n",
        "      <th></th>\n",
        "      <th>game_id</th>\n",
        "      <th>year</th>\n",
        "      <th>date</th>\n",
        "      <th>away_team</th>\n",
        "      <th>home_team</th>\n",
        "      <th>away_score</th>\n",
        "      <th>home_score</th>\n",
        "      <th>winner</th>\n",
        "    </tr>\n",
        "  </thead>\n",
        "  <tbody>\n",
        "    <tr>\n",
        "      <th>0</th>\n",
        "      <td> 0</td>\n",
        "      <td> 2009</td>\n",
        "      <td> 9/3/09</td>\n",
        "      <td> South Carolina</td>\n",
        "      <td> No Carolina State</td>\n",
        "      <td>  7</td>\n",
        "      <td>  3</td>\n",
        "      <td> South Carolina</td>\n",
        "    </tr>\n",
        "    <tr>\n",
        "      <th>1</th>\n",
        "      <td> 1</td>\n",
        "      <td> 2009</td>\n",
        "      <td> 9/3/09</td>\n",
        "      <td>     Utah State</td>\n",
        "      <td>              Utah</td>\n",
        "      <td> 17</td>\n",
        "      <td> 35</td>\n",
        "      <td>           Utah</td>\n",
        "    </tr>\n",
        "    <tr>\n",
        "      <th>2</th>\n",
        "      <td> 2</td>\n",
        "      <td> 2009</td>\n",
        "      <td> 9/3/09</td>\n",
        "      <td>         Oregon</td>\n",
        "      <td>       Boise State</td>\n",
        "      <td>  9</td>\n",
        "      <td> 19</td>\n",
        "      <td>    Boise State</td>\n",
        "    </tr>\n",
        "    <tr>\n",
        "      <th>3</th>\n",
        "      <td> 3</td>\n",
        "      <td> 2009</td>\n",
        "      <td> 9/3/09</td>\n",
        "      <td>           Troy</td>\n",
        "      <td>     Bowling Green</td>\n",
        "      <td> 14</td>\n",
        "      <td> 31</td>\n",
        "      <td>  Bowling Green</td>\n",
        "    </tr>\n",
        "    <tr>\n",
        "      <th>4</th>\n",
        "      <td> 4</td>\n",
        "      <td> 2009</td>\n",
        "      <td> 9/3/09</td>\n",
        "      <td>    North Texas</td>\n",
        "      <td>        Ball State</td>\n",
        "      <td> 20</td>\n",
        "      <td> 10</td>\n",
        "      <td>    North Texas</td>\n",
        "    </tr>\n",
        "  </tbody>\n",
        "</table>\n",
        "</div>"
       ],
       "metadata": {},
       "output_type": "pyout",
       "prompt_number": 46,
       "text": [
        "   game_id  year    date       away_team          home_team  away_score  \\\n",
        "0        0  2009  9/3/09  South Carolina  No Carolina State           7   \n",
        "1        1  2009  9/3/09      Utah State               Utah          17   \n",
        "2        2  2009  9/3/09          Oregon        Boise State           9   \n",
        "3        3  2009  9/3/09            Troy      Bowling Green          14   \n",
        "4        4  2009  9/3/09     North Texas         Ball State          20   \n",
        "\n",
        "   home_score          winner  \n",
        "0           3  South Carolina  \n",
        "1          35            Utah  \n",
        "2          19     Boise State  \n",
        "3          31   Bowling Green  \n",
        "4          10     North Texas  "
       ]
      }
     ],
     "prompt_number": 46
    },
    {
     "cell_type": "code",
     "collapsed": false,
     "input": [
      "len(newDF.index)"
     ],
     "language": "python",
     "metadata": {},
     "outputs": [
      {
       "metadata": {},
       "output_type": "pyout",
       "prompt_number": 47,
       "text": [
        "9920"
       ]
      }
     ],
     "prompt_number": 47
    },
    {
     "cell_type": "code",
     "collapsed": false,
     "input": [
      "for c in list(newDF.ix[:, 18:].columns):\n",
      "    newDF[c] = newDF[c].astype(float)"
     ],
     "language": "python",
     "metadata": {},
     "outputs": [],
     "prompt_number": 48
    },
    {
     "cell_type": "code",
     "collapsed": false,
     "input": [
      "strings = ['date','away_team','home_team','winner']\n",
      "ints = ['year','away_score','home_score']"
     ],
     "language": "python",
     "metadata": {},
     "outputs": [],
     "prompt_number": 49
    },
    {
     "cell_type": "code",
     "collapsed": false,
     "input": [
      "for c in list(newDF[ints].columns):\n",
      "    newDF[c] = newDF[c].astype(int)"
     ],
     "language": "python",
     "metadata": {},
     "outputs": [],
     "prompt_number": 50
    },
    {
     "cell_type": "code",
     "collapsed": false,
     "input": [
      "for c in list(newDF[strings].columns):\n",
      "    newDF[c] = newDF[c].astype(str)"
     ],
     "language": "python",
     "metadata": {},
     "outputs": [],
     "prompt_number": 51
    },
    {
     "cell_type": "code",
     "collapsed": false,
     "input": [
      "newDF = newDF.interpolate()\n",
      "newDF = newDF.fillna(0)"
     ],
     "language": "python",
     "metadata": {},
     "outputs": [],
     "prompt_number": 52
    },
    {
     "cell_type": "code",
     "collapsed": false,
     "input": [
      "len(newDF.index)"
     ],
     "language": "python",
     "metadata": {},
     "outputs": [
      {
       "metadata": {},
       "output_type": "pyout",
       "prompt_number": 53,
       "text": [
        "9920"
       ]
      }
     ],
     "prompt_number": 53
    },
    {
     "cell_type": "code",
     "collapsed": false,
     "input": [
      "newDF.head()"
     ],
     "language": "python",
     "metadata": {},
     "outputs": [
      {
       "html": [
        "<div style=\"max-height:1000px;max-width:1500px;overflow:auto;\">\n",
        "<table border=\"1\" class=\"dataframe\">\n",
        "  <thead>\n",
        "    <tr style=\"text-align: right;\">\n",
        "      <th></th>\n",
        "      <th>game_id</th>\n",
        "      <th>year</th>\n",
        "      <th>date</th>\n",
        "      <th>away_team</th>\n",
        "      <th>home_team</th>\n",
        "      <th>away_score</th>\n",
        "      <th>home_score</th>\n",
        "      <th>winner</th>\n",
        "    </tr>\n",
        "  </thead>\n",
        "  <tbody>\n",
        "    <tr>\n",
        "      <th>0</th>\n",
        "      <td> 0</td>\n",
        "      <td> 2009</td>\n",
        "      <td> 9/3/09</td>\n",
        "      <td> South Carolina</td>\n",
        "      <td> No Carolina State</td>\n",
        "      <td>  7</td>\n",
        "      <td>  3</td>\n",
        "      <td> South Carolina</td>\n",
        "    </tr>\n",
        "    <tr>\n",
        "      <th>1</th>\n",
        "      <td> 1</td>\n",
        "      <td> 2009</td>\n",
        "      <td> 9/3/09</td>\n",
        "      <td>     Utah State</td>\n",
        "      <td>              Utah</td>\n",
        "      <td> 17</td>\n",
        "      <td> 35</td>\n",
        "      <td>           Utah</td>\n",
        "    </tr>\n",
        "    <tr>\n",
        "      <th>2</th>\n",
        "      <td> 2</td>\n",
        "      <td> 2009</td>\n",
        "      <td> 9/3/09</td>\n",
        "      <td>         Oregon</td>\n",
        "      <td>       Boise State</td>\n",
        "      <td>  9</td>\n",
        "      <td> 19</td>\n",
        "      <td>    Boise State</td>\n",
        "    </tr>\n",
        "    <tr>\n",
        "      <th>3</th>\n",
        "      <td> 3</td>\n",
        "      <td> 2009</td>\n",
        "      <td> 9/3/09</td>\n",
        "      <td>           Troy</td>\n",
        "      <td>     Bowling Green</td>\n",
        "      <td> 14</td>\n",
        "      <td> 31</td>\n",
        "      <td>  Bowling Green</td>\n",
        "    </tr>\n",
        "    <tr>\n",
        "      <th>4</th>\n",
        "      <td> 4</td>\n",
        "      <td> 2009</td>\n",
        "      <td> 9/3/09</td>\n",
        "      <td>    North Texas</td>\n",
        "      <td>        Ball State</td>\n",
        "      <td> 20</td>\n",
        "      <td> 10</td>\n",
        "      <td>    North Texas</td>\n",
        "    </tr>\n",
        "  </tbody>\n",
        "</table>\n",
        "</div>"
       ],
       "metadata": {},
       "output_type": "pyout",
       "prompt_number": 54,
       "text": [
        "   game_id  year    date       away_team          home_team  away_score  \\\n",
        "0        0  2009  9/3/09  South Carolina  No Carolina State           7   \n",
        "1        1  2009  9/3/09      Utah State               Utah          17   \n",
        "2        2  2009  9/3/09          Oregon        Boise State           9   \n",
        "3        3  2009  9/3/09            Troy      Bowling Green          14   \n",
        "4        4  2009  9/3/09     North Texas         Ball State          20   \n",
        "\n",
        "   home_score          winner  \n",
        "0           3  South Carolina  \n",
        "1          35            Utah  \n",
        "2          19     Boise State  \n",
        "3          31   Bowling Green  \n",
        "4          10     North Texas  "
       ]
      }
     ],
     "prompt_number": 54
    },
    {
     "cell_type": "code",
     "collapsed": false,
     "input": [
      "years = set(gamesDF.year)\n",
      "trainL = []\n",
      "testL = []\n",
      "for year in years:\n",
      "    df = newDF[newDF.year==year]\n",
      "    x = list(range(min(df.index), max(df.index)+1))\n",
      "    np.random.shuffle(x)\n",
      "    df.index = x\n",
      "    df = df.sort_index()\n",
      "    spr = int(floor(len(df)*0.6))\n",
      "    trn = df[:spr]\n",
      "    tst = df[spr:] \n",
      "    trainL.append(trn)\n",
      "    testL.append(tst)\n",
      "trainDf = pd.concat(trainL)\n",
      "testDf = pd.concat(testL)"
     ],
     "language": "python",
     "metadata": {},
     "outputs": [],
     "prompt_number": 55
    },
    {
     "cell_type": "code",
     "collapsed": false,
     "input": [
      "trainDf.to_csv('trainCOL.csv')\n",
      "testDf.to_csv('testCOL.csv')"
     ],
     "language": "python",
     "metadata": {},
     "outputs": [],
     "prompt_number": 56
    },
    {
     "cell_type": "markdown",
     "metadata": {},
     "source": [
      "---"
     ]
    }
   ],
   "metadata": {}
  }
 ]
}