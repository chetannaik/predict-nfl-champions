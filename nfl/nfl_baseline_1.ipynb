{
 "metadata": {
  "name": "",
  "signature": "sha256:07c069029e3f0de2a22b91f78db6b9e606d5ced02818e552b3d8071599b2bbd9"
 },
 "nbformat": 3,
 "nbformat_minor": 0,
 "worksheets": [
  {
   "cells": [
    {
     "cell_type": "markdown",
     "metadata": {},
     "source": [
      "# NFL Baseline 1"
     ]
    },
    {
     "cell_type": "code",
     "collapsed": false,
     "input": [
      "%pylab inline\n",
      "\n",
      "from collections import defaultdict\n",
      "\n",
      "import cPickle as pickle\n",
      "import math\n",
      "import numpy as np\n",
      "import pandas as pd\n",
      "import pylab\n",
      "import seaborn"
     ],
     "language": "python",
     "metadata": {},
     "outputs": [
      {
       "output_type": "stream",
       "stream": "stdout",
       "text": [
        "Populating the interactive namespace from numpy and matplotlib\n"
       ]
      }
     ],
     "prompt_number": 1
    },
    {
     "cell_type": "code",
     "collapsed": false,
     "input": [
      "colors = seaborn.color_palette()\n",
      "\n",
      "from matplotlib import rc\n",
      "\n",
      "rc(\"figure\", facecolor=\"white\")\n",
      "rc(\"axes\", facecolor=\"white\")\n",
      "rc(\"axes\", edgecolor=\"grey\")\n",
      "\n",
      "\n",
      "rc(\"grid\", alpha=0.9)\n",
      "rc(\"grid\", linewidth=0.2)\n",
      "rc(\"grid\", linestyle=\":\")\n",
      "\n",
      "\n",
      "rc('font',**{'family':'serif','serif':['Palatino']})"
     ],
     "language": "python",
     "metadata": {},
     "outputs": [],
     "prompt_number": 2
    },
    {
     "cell_type": "code",
     "collapsed": false,
     "input": [
      "def side_by_side(*objs, **kwds):\n",
      "    from pandas.core.common import adjoin\n",
      "    space = kwds.get('space', 4)\n",
      "    reprs = [repr(obj).split('\\n') for obj in objs]\n",
      "    print adjoin(space, *reprs)"
     ],
     "language": "python",
     "metadata": {},
     "outputs": [],
     "prompt_number": 3
    },
    {
     "cell_type": "code",
     "collapsed": false,
     "input": [
      "# Creating a dictionary containing team name keyed by its abbreviation.\n",
      "team_dict = {'ARI': 'Arizona Cardinals',\n",
      "             'ATL': 'Atlanta Falcons',\n",
      "             'BAL': 'Baltimore Ravens',\n",
      "             'BUF': 'Buffalo Bills',\n",
      "             'CAR': 'Carolina Panthers',\n",
      "             'CHI': 'Chicago Bears',\n",
      "             'CIN': 'Cincinnati Bengals',\n",
      "             'CLE': 'Cleveland Browns',\n",
      "             'DAL': 'Dallas Cowboys',\n",
      "             'DEN': 'Denver Broncos',\n",
      "             'DET': 'Detroit Lions',\n",
      "             'GB' : 'Green Bay Packers',\n",
      "             'HOU': 'Houston Texans',\n",
      "             'IND': 'Indianapolis Colts',\n",
      "             'JAC': 'Jacksonville Jaguars',\n",
      "             'KC' : 'Kansas City Chiefs',\n",
      "             'MIA': 'Miami Dolphins',\n",
      "             'MIN': 'Minnesota Vikings',\n",
      "             'NE' : 'New England Patriots',\n",
      "             'NO' : 'New Orleans Saints',\n",
      "             'NYG': 'New York Giants',\n",
      "             'NYJ': 'New York Jets',\n",
      "             'OAK': 'Oakland Raiders',\n",
      "             'PHI': 'Philadelphia Eagles',\n",
      "             'PIT': 'Pittsburgh Steelers',\n",
      "             'SD' : 'San Diego Chargers',\n",
      "             'SEA': 'Seattle Seahawks',\n",
      "             'SF' : 'San Francisco 49ers',\n",
      "             'STL': 'St. Louis Rams',\n",
      "             'TB' : 'Tampa Bay Buccaneers',\n",
      "             'TEN': 'Tennessee Titans',\n",
      "             'WAS': 'Washington Redskins'}"
     ],
     "language": "python",
     "metadata": {},
     "outputs": [],
     "prompt_number": 4
    },
    {
     "cell_type": "code",
     "collapsed": false,
     "input": [
      "def get_team_name(abbr):\n",
      "    return team_dict[abbr]"
     ],
     "language": "python",
     "metadata": {},
     "outputs": [],
     "prompt_number": 5
    },
    {
     "cell_type": "markdown",
     "metadata": {},
     "source": [
      "---\n",
      "## Creating Train and Test Set"
     ]
    },
    {
     "cell_type": "code",
     "collapsed": false,
     "input": [
      "trainDF = pd.read_csv('trainNFL.csv', index_col=0)\n",
      "testDF = pd.read_csv('testNFL.csv', index_col=0)"
     ],
     "language": "python",
     "metadata": {},
     "outputs": [],
     "prompt_number": 6
    },
    {
     "cell_type": "code",
     "collapsed": false,
     "input": [
      "trainDF = trainDF.sort(columns='game_id').reset_index(drop=True)\n",
      "testDF = testDF.sort(columns='game_id').reset_index(drop=True)"
     ],
     "language": "python",
     "metadata": {},
     "outputs": [],
     "prompt_number": 7
    },
    {
     "cell_type": "markdown",
     "metadata": {},
     "source": [
      "---\n",
      "## Train Data Operations"
     ]
    },
    {
     "cell_type": "code",
     "collapsed": false,
     "input": [
      "trdf = trainDF[['game_id','year','week','home_team','away_team','home_score','away_score','winner']]"
     ],
     "language": "python",
     "metadata": {},
     "outputs": [],
     "prompt_number": 8
    },
    {
     "cell_type": "code",
     "collapsed": false,
     "input": [
      "def get_historic_games(team, gameId, trdf):\n",
      "    df = trdf[trdf.game_id < gameId]\n",
      "    hdf = df[df.home_team == team]\n",
      "    adf = df[df.away_team == team]\n",
      "    newdf = pd.concat([hdf, adf])\n",
      "    newdf = newdf.sort_index()\n",
      "    try:\n",
      "        return pd.concat([hdf, adf])\n",
      "    except:\n",
      "        return False"
     ],
     "language": "python",
     "metadata": {},
     "outputs": [],
     "prompt_number": 9
    },
    {
     "cell_type": "code",
     "collapsed": false,
     "input": [
      "def get_points(team, df):\n",
      "    pFor = []\n",
      "    pAgainst = []\n",
      "    for r, v in df.iterrows():\n",
      "        hTeam = v.home_team\n",
      "        aTeam = v.away_team\n",
      "        hScore = v.home_score\n",
      "        aScore = v.away_score\n",
      "        if (team == hTeam):\n",
      "            pFor.append(hScore)\n",
      "            pAgainst.append(aScore)\n",
      "        elif (team == aTeam):\n",
      "            pFor.append(aScore)\n",
      "            pAgainst.append(hScore)\n",
      "    return (sum(pFor)/len(df), sum(pAgainst)/len(df))"
     ],
     "language": "python",
     "metadata": {},
     "outputs": [],
     "prompt_number": 10
    },
    {
     "cell_type": "code",
     "collapsed": false,
     "input": [
      "for i in xrange(1, 50):\n",
      "    lst = []\n",
      "    for r, v in trdf.iterrows():\n",
      "        gameId = v.game_id\n",
      "        home = v.home_team\n",
      "        away = v.away_team\n",
      "        homehGames = get_historic_games(home, gameId, trdf)\n",
      "        awayhGames = get_historic_games(away, gameId, trdf)\n",
      "        if (isinstance(homehGames, pd.DataFrame) and isinstance(awayhGames, pd.DataFrame)):\n",
      "            if (len(homehGames.index) >= i and len(awayhGames.index) >= i):\n",
      "                homehGames = homehGames[-i:]\n",
      "                awayhGames = awayhGames[-i:]\n",
      "                hFor, hAgainst = get_points(home, homehGames)\n",
      "                aFor, aAgainst = get_points(away, awayhGames)\n",
      "            else:\n",
      "                hFor, hAgainst, aFor, aAgainst = 0, 0, 0, 0\n",
      "        else:\n",
      "            hFor, hAgainst, aFor, aAgainst = 0, 0, 0, 0\n",
      "        v = v.append(pd.Series([hFor, hAgainst, aFor, aAgainst], index=['hFor', 'hAgainst', 'aFor', 'aAgainst'], name=r))\n",
      "        lst.append(pd.DataFrame(v).T)\n",
      "    trdfn = pd.concat(lst)\n",
      "    csv_name = \"baseline1/data_iter_\"+str(i)+\".csv\"\n",
      "    trdfn.to_csv(csv_name)"
     ],
     "language": "python",
     "metadata": {},
     "outputs": [],
     "prompt_number": 11
    },
    {
     "cell_type": "code",
     "collapsed": false,
     "input": [
      "def get_diff(hFor, hAgainst, aFor, aAgainst):\n",
      "    if sum([hFor, hAgainst, aFor, aAgainst]) > 0:\n",
      "        return (hFor + aAgainst)/2  - (aFor + hAgainst)/2\n",
      "    else:\n",
      "        return 0"
     ],
     "language": "python",
     "metadata": {},
     "outputs": [],
     "prompt_number": 12
    },
    {
     "cell_type": "code",
     "collapsed": false,
     "input": [
      "def get_predicted_winner(diff_xy, home_team, away_team):\n",
      "    if diff_xy >= 0:\n",
      "        return home_team\n",
      "    else:\n",
      "        return away_team"
     ],
     "language": "python",
     "metadata": {},
     "outputs": [],
     "prompt_number": 13
    },
    {
     "cell_type": "code",
     "collapsed": false,
     "input": [
      "def is_prediction_correct(winner, predicted_winner):\n",
      "    if winner == predicted_winner:\n",
      "        return True\n",
      "    else:\n",
      "        return False"
     ],
     "language": "python",
     "metadata": {},
     "outputs": [],
     "prompt_number": 14
    },
    {
     "cell_type": "code",
     "collapsed": false,
     "input": [
      "dfs = []\n",
      "for i in xrange(1, 50):\n",
      "    csv_name = \"baseline1/data_iter_\"+str(i)+\".csv\"\n",
      "    trdfn = pd.read_csv(csv_name, index_col=0)\n",
      "    years = set(trdfn.year)\n",
      "    lst = []\n",
      "    for year in years:\n",
      "        trdfny = trdfn[trdfn.year == year]\n",
      "        trdfny['diff_xy'] = trdfny.apply(lambda x: get_diff(x['hFor'], x['hAgainst'], x['aFor'], x['aAgainst']), axis=1)\n",
      "        trdfny['predicted_winner'] = trdfny.apply(lambda x: get_predicted_winner(x['diff_xy'], x['home_team'], x['away_team']), axis=1)\n",
      "        trdfny['correct_prediction'] = trdfny.apply(lambda x: is_prediction_correct(x['winner'], x['predicted_winner']), axis=1)\n",
      "        lst.append(float(sum(trdfny.correct_prediction))*100/len(trdfny.index))\n",
      "    dfs.append(pd.DataFrame(lst, columns=[i], index=years).T)\n",
      "ansB1 = pd.concat(dfs)   "
     ],
     "language": "python",
     "metadata": {},
     "outputs": [],
     "prompt_number": 16
    },
    {
     "cell_type": "code",
     "collapsed": false,
     "input": [
      "tmpB1 = ansB1.T.mean()"
     ],
     "language": "python",
     "metadata": {},
     "outputs": [],
     "prompt_number": 17
    },
    {
     "cell_type": "code",
     "collapsed": false,
     "input": [
      "tmpB1"
     ],
     "language": "python",
     "metadata": {},
     "outputs": [
      {
       "metadata": {},
       "output_type": "pyout",
       "prompt_number": 18,
       "text": [
        "1     55.558756\n",
        "2     56.347926\n",
        "3     57.036290\n",
        "4     58.823445\n",
        "5     59.274194\n",
        "6     58.333813\n",
        "7     59.315956\n",
        "8     59.684620\n",
        "9     58.870968\n",
        "10    59.222350\n",
        "11    58.595910\n",
        "12    58.600230\n",
        "13    59.762385\n",
        "14    59.991359\n",
        "15    60.436348\n",
        "16    60.028802\n",
        "17    59.890553\n",
        "18    59.449885\n",
        "19    59.137385\n",
        "20    58.957373\n",
        "21    59.403802\n",
        "22    59.716302\n",
        "23    60.028802\n",
        "24    59.582373\n",
        "25    59.448445\n",
        "26    59.448445\n",
        "27    58.912730\n",
        "28    58.868088\n",
        "29    58.555588\n",
        "30    59.314516\n",
        "31    59.225230\n",
        "32    59.314516\n",
        "33    59.135945\n",
        "34    59.225230\n",
        "35    59.091302\n",
        "36    59.091302\n",
        "37    58.912730\n",
        "38    58.823445\n",
        "39    58.689516\n",
        "40    59.359159\n",
        "41    59.582373\n",
        "42    58.689516\n",
        "43    59.002016\n",
        "44    59.002016\n",
        "45    58.510945\n",
        "46    58.510945\n",
        "47    58.153802\n",
        "48    58.019873\n",
        "49    58.689516\n",
        "dtype: float64"
       ]
      }
     ],
     "prompt_number": 18
    },
    {
     "cell_type": "code",
     "collapsed": false,
     "input": [
      "max(tmpB1)"
     ],
     "language": "python",
     "metadata": {},
     "outputs": [
      {
       "metadata": {},
       "output_type": "pyout",
       "prompt_number": 19,
       "text": [
        "60.436347926267281"
       ]
      }
     ],
     "prompt_number": 19
    },
    {
     "cell_type": "code",
     "collapsed": false,
     "input": [
      "tmpB1.plot(label=\"Baseline 1\")\n",
      "plt.grid(b=True, which='major', color='gray', linestyle=':')\n",
      "plt.xlabel('Number of games considered')\n",
      "plt.ylabel('Prediction accurcay')\n",
      "plt.ylim([0, 65])\n",
      "plt.legend()\n",
      "plt.show()"
     ],
     "language": "python",
     "metadata": {},
     "outputs": [
      {
       "output_type": "stream",
       "stream": "stderr",
       "text": [
        "/usr/lib/pymodules/python2.7/matplotlib/font_manager.py:1236: UserWarning: findfont: Font family ['serif'] not found. Falling back to Bitstream Vera Sans\n",
        "  (prop.get_family(), self.defaultFamily[fontext]))\n",
        "/usr/lib/pymodules/python2.7/matplotlib/font_manager.py:1246: UserWarning: findfont: Could not match :family=Bitstream Vera Sans:style=normal:variant=normal:weight=normal:stretch=normal:size=10.0. Returning /usr/share/matplotlib/mpl-data/fonts/ttf/cmb10.ttf\n",
        "  UserWarning)\n",
        "/usr/lib/pymodules/python2.7/matplotlib/font_manager.py:1246: UserWarning: findfont: Could not match :family=Bitstream Vera Sans:style=normal:variant=normal:weight=normal:stretch=normal:size=11.0. Returning /usr/share/matplotlib/mpl-data/fonts/ttf/cmb10.ttf\n",
        "  UserWarning)\n"
       ]
      },
      {
       "metadata": {},
       "output_type": "display_data",
       "png": "[encoded data removed]",
       "text": [
        "<matplotlib.figure.Figure at 0x7f12d861bc50>"
       ]
      }
     ],
     "prompt_number": 20
    },
    {
     "cell_type": "markdown",
     "metadata": {},
     "source": [
      "---\n",
      "## Test Data Operations"
     ]
    },
    {
     "cell_type": "code",
     "collapsed": false,
     "input": [
      "tsdf = testDF"
     ],
     "language": "python",
     "metadata": {},
     "outputs": [],
     "prompt_number": 21
    },
    {
     "cell_type": "code",
     "collapsed": false,
     "input": [
      "def get_train_games(team, gameId, trdf):\n",
      "    df = trdf[trdf.game_id < gameId]\n",
      "    hdf = df[df.home_team == team]\n",
      "    adf = df[df.away_team == team]\n",
      "    newdf = pd.concat([hdf, adf])\n",
      "    newdf = newdf.sort_index()\n",
      "    try:\n",
      "        return pd.concat([hdf, adf])\n",
      "    except:\n",
      "        return False"
     ],
     "language": "python",
     "metadata": {},
     "outputs": [],
     "prompt_number": 22
    },
    {
     "cell_type": "code",
     "collapsed": false,
     "input": [
      "def get_points(team, df):\n",
      "    pFor = []\n",
      "    pAgainst = []\n",
      "    for r, v in df.iterrows():\n",
      "        hTeam = v.home_team\n",
      "        aTeam = v.away_team\n",
      "        hScore = v.home_score\n",
      "        aScore = v.away_score\n",
      "        if (team == hTeam):\n",
      "            pFor.append(hScore)\n",
      "            pAgainst.append(aScore)\n",
      "        elif (team == aTeam):\n",
      "            pFor.append(aScore)\n",
      "            pAgainst.append(hScore)\n",
      "    return (sum(pFor)/len(df), sum(pAgainst)/len(df))"
     ],
     "language": "python",
     "metadata": {},
     "outputs": [],
     "prompt_number": 23
    },
    {
     "cell_type": "code",
     "collapsed": false,
     "input": [
      "i = 15\n",
      "\n",
      "lst = []\n",
      "for r, v in tsdf.iterrows():\n",
      "    gameId = v.game_id\n",
      "    home = v.home_team\n",
      "    away = v.away_team\n",
      "    homehGames = get_train_games(home, gameId, trdf)\n",
      "    awayhGames = get_train_games(away, gameId, trdf)\n",
      "    if (isinstance(homehGames, pd.DataFrame) and isinstance(awayhGames, pd.DataFrame)):\n",
      "        if (len(homehGames.index) >= i and len(awayhGames.index) >= i):\n",
      "            homehGames = homehGames[-i:]\n",
      "            awayhGames = awayhGames[-i:]\n",
      "            hFor, hAgainst = get_points(home, homehGames)\n",
      "            aFor, aAgainst = get_points(away, awayhGames)\n",
      "        else:\n",
      "            hFor, hAgainst, aFor, aAgainst = 0, 0, 0, 0\n",
      "    else:\n",
      "        hFor, hAgainst, aFor, aAgainst = 0, 0, 0, 0\n",
      "    v = v.append(pd.Series([hFor, hAgainst, aFor, aAgainst], index=['hFor', 'hAgainst', 'aFor', 'aAgainst'], name=r))\n",
      "    lst.append(pd.DataFrame(v).T)\n",
      "trdfn = pd.concat(lst)\n",
      "csv_name = \"baseline1/test_data_iter_\"+str(i)+\".csv\"\n",
      "trdfn.to_csv(csv_name)"
     ],
     "language": "python",
     "metadata": {},
     "outputs": [],
     "prompt_number": 24
    },
    {
     "cell_type": "code",
     "collapsed": false,
     "input": [
      "dfs = []\n",
      "\n",
      "csv_name = \"baseline1/test_data_iter_\"+str(i)+\".csv\"\n",
      "tsdfn = pd.read_csv(csv_name, index_col=0)\n",
      "\n",
      "years = set(tsdfn.year)\n",
      "for year in years:\n",
      "    tsdfny = tsdfn[tsdfn.year == year]\n",
      "    tsdfny['diff_xy'] = tsdfny.apply(lambda x: get_diff(x['hFor'], x['hAgainst'], x['aFor'], x['aAgainst']), axis=1)\n",
      "    tsdfny['predicted_winner'] = tsdfny.apply(lambda x: get_predicted_winner(x['diff_xy'], x['home_team'], x['away_team']), axis=1)\n",
      "    tsdfny['correct_prediction'] = tsdfny.apply(lambda x: is_prediction_correct(x['winner'], x['predicted_winner']), axis=1)\n",
      "    accuracy = float(sum(tsdfny.correct_prediction))*100/len(tsdfny.index)\n",
      "    dfs.append(pd.DataFrame([accuracy], index=[year], columns=[\"accuracy\"]))\n",
      "ansB1Test = pd.concat(dfs)"
     ],
     "language": "python",
     "metadata": {},
     "outputs": [],
     "prompt_number": 26
    },
    {
     "cell_type": "code",
     "collapsed": false,
     "input": [
      "ansB1Test"
     ],
     "language": "python",
     "metadata": {},
     "outputs": [
      {
       "html": [
        "<div style=\"max-height:1000px;max-width:1500px;overflow:auto;\">\n",
        "<table border=\"1\" class=\"dataframe\">\n",
        "  <thead>\n",
        "    <tr style=\"text-align: right;\">\n",
        "      <th></th>\n",
        "      <th>accuracy</th>\n",
        "    </tr>\n",
        "  </thead>\n",
        "  <tbody>\n",
        "    <tr>\n",
        "      <th>2000</th>\n",
        "      <td> 52.884615</td>\n",
        "    </tr>\n",
        "    <tr>\n",
        "      <th>2001</th>\n",
        "      <td> 66.346154</td>\n",
        "    </tr>\n",
        "    <tr>\n",
        "      <th>2002</th>\n",
        "      <td> 58.878505</td>\n",
        "    </tr>\n",
        "    <tr>\n",
        "      <th>2003</th>\n",
        "      <td> 53.271028</td>\n",
        "    </tr>\n",
        "    <tr>\n",
        "      <th>2004</th>\n",
        "      <td> 60.747664</td>\n",
        "    </tr>\n",
        "    <tr>\n",
        "      <th>2005</th>\n",
        "      <td> 61.682243</td>\n",
        "    </tr>\n",
        "    <tr>\n",
        "      <th>2006</th>\n",
        "      <td> 61.682243</td>\n",
        "    </tr>\n",
        "    <tr>\n",
        "      <th>2007</th>\n",
        "      <td> 57.009346</td>\n",
        "    </tr>\n",
        "    <tr>\n",
        "      <th>2008</th>\n",
        "      <td> 59.813084</td>\n",
        "    </tr>\n",
        "    <tr>\n",
        "      <th>2009</th>\n",
        "      <td> 71.028037</td>\n",
        "    </tr>\n",
        "    <tr>\n",
        "      <th>2010</th>\n",
        "      <td> 64.485981</td>\n",
        "    </tr>\n",
        "    <tr>\n",
        "      <th>2011</th>\n",
        "      <td> 53.271028</td>\n",
        "    </tr>\n",
        "    <tr>\n",
        "      <th>2012</th>\n",
        "      <td> 61.682243</td>\n",
        "    </tr>\n",
        "    <tr>\n",
        "      <th>2013</th>\n",
        "      <td> 55.140187</td>\n",
        "    </tr>\n",
        "  </tbody>\n",
        "</table>\n",
        "</div>"
       ],
       "metadata": {},
       "output_type": "pyout",
       "prompt_number": 27,
       "text": [
        "       accuracy\n",
        "2000  52.884615\n",
        "2001  66.346154\n",
        "2002  58.878505\n",
        "2003  53.271028\n",
        "2004  60.747664\n",
        "2005  61.682243\n",
        "2006  61.682243\n",
        "2007  57.009346\n",
        "2008  59.813084\n",
        "2009  71.028037\n",
        "2010  64.485981\n",
        "2011  53.271028\n",
        "2012  61.682243\n",
        "2013  55.140187"
       ]
      }
     ],
     "prompt_number": 27
    },
    {
     "cell_type": "code",
     "collapsed": false,
     "input": [
      "float(mean(ansB2Test))"
     ],
     "language": "python",
     "metadata": {},
     "outputs": [
      {
       "metadata": {},
       "output_type": "pyout",
       "prompt_number": 28,
       "text": [
        "59.85159700112972"
       ]
      }
     ],
     "prompt_number": 28
    },
    {
     "cell_type": "markdown",
     "metadata": {},
     "source": [
      "---"
     ]
    }
   ],
   "metadata": {}
  }
 ]
}